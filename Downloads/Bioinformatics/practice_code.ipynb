{
 "cells": [
  {
   "cell_type": "code",
   "execution_count": null,
   "id": "6f2c4281-9852-4994-b443-1bee4f601569",
   "metadata": {},
   "outputs": [],
   "source": [
    "#Names: Valeria Ramos Prado and Isabella Pelosi"
   ]
  },
  {
   "cell_type": "code",
   "execution_count": null,
   "id": "28b94002-28d8-4ee6-989f-ce018aed9c1b",
   "metadata": {},
   "outputs": [],
   "source": [
    "#Initial Code\n",
    "pi = 3.14159\n",
    "radius = 2.2\n",
    "# area of circle equation <- this is a comment\n",
    "area = pi*(radius**2)\n",
    "print(area)\n",
    "\n",
    "# change values of radius <- another comment\n",
    "# use comments to help others understand what you are doing in code\n",
    "radius = radius + 1\n",
    "print(area)     # area doesn't change\n",
    "area = pi*(radius**2)\n",
    "print(area)\n",
    "\n",
    "\n",
    "#############################\n",
    "#### COMMENTING LINES #######\n",
    "#############################\n",
    "# to comment MANY lines at a time, highlight all of them then CTRL+1\n",
    "# do CTRL+1 again to uncomment them\n",
    "# try it on the next few lines below!\n",
    "\n",
    "#area = pi*(radius**2)\n",
    "#print(area)\n",
    "#radius = radius + 1\n",
    "#area = pi*(radius**2)\n",
    "#print(area)\n",
    "\n",
    "#############################\n",
    "#### AUTOCOMPLETE #######\n",
    "#############################\n",
    "# Spyder can autocomplete names for you\n",
    "# start typing a variable name defined in your program and hit tab \n",
    "# before you finish typing -- try it below\n",
    "\n",
    "# define a variable\n",
    "a_very_long_variable_name_dont_name_them_this_long_pls = 0\n",
    "\n",
    "# below, start typing a_ve then hit tab... cool, right!\n",
    "# use autocomplete to change the value of that variable to 1\n",
    "\n",
    "# use autocomplete to write a line that prints the value of that long variable\n",
    "# notice that Spyder also automatically adds the closed parentheses for you!"
   ]
  },
  {
   "cell_type": "code",
   "execution_count": null,
   "id": "b33dd6ff-f943-4872-b920-7e5abfd8bde3",
   "metadata": {},
   "outputs": [],
   "source": [
    "# In this cell, we define two variables:\n",
    "#   - pi: an approximation of π (3.14159)\n",
    "#   - radius: the radius of the circle\n",
    "#\n",
    "# We then calculate the area of the circle using the formula:\n",
    "#   area = π * (radius^2)\n",
    "# Finally, we print the result.\n",
    "\n",
    "pi = 3.14159\n",
    "radius = 2.2\n",
    "area = pi * (radius ** 2)\n",
    "print(\"Area with radius 2.2:\", area)\n"
   ]
  },
  {
   "cell_type": "code",
   "execution_count": null,
   "id": "2efe622c-dccd-4852-9836-47b8db006f82",
   "metadata": {},
   "outputs": [],
   "source": [
    "# In this cell, we increase the radius by 1 unit.\n",
    "# Notice that if we print the area BEFORE recalculating it, \n",
    "# the value will not change — because Python only recalculates\n",
    "# when we explicitly update the variable.\n",
    "#\n",
    "# After updating the radius, we recalculate the area and print the new result.\n",
    "\n",
    "radius = radius + 1\n",
    "print(\"Area before recalculating:\", area)   # still the old value\n",
    "area = pi * (radius ** 2)\n",
    "print(\"Area after recalculating with radius 3.2:\", area)\n"
   ]
  },
  {
   "cell_type": "code",
   "execution_count": null,
   "id": "fbec48c2-b1ec-438e-9ff7-52c4d1b84fe9",
   "metadata": {},
   "outputs": [],
   "source": [
    "# In Jupyter, you can comment or uncomment multiple lines at once.\n",
    "# Highlight the lines below, then press:\n",
    "#   Mac: ⌘ + /\n",
    "#   Windows/Linux: Ctrl + /\n",
    "#\n",
    "# Uncomment the lines below to see how the values update again.\n",
    "\n",
    "# area = pi * (radius ** 2)\n",
    "# print(\"Area:\", area)\n",
    "# radius = radius + 1\n",
    "# area = pi * (radius ** 2)\n",
    "# print(\"Area after increasing radius:\", area)\n"
   ]
  },
  {
   "cell_type": "code",
   "execution_count": null,
   "id": "658df177-ed50-440e-8f72-34728892d443",
   "metadata": {},
   "outputs": [],
   "source": [
    "# In this cell, we practice working with long variable names.\n",
    "# Jupyter (like most IDEs) supports autocomplete:\n",
    "# Start typing the variable name and press the \"Tab\" key to complete it.\n",
    "#\n",
    "# 1. Define a long variable name\n",
    "# 2. Update its value from 0 to 1\n",
    "# 3. Print its value\n",
    "\n",
    "a_very_long_variable_name_dont_name_them_this_long_pls = 0\n",
    "a_very_long_variable_name_dont_name_them_this_long_pls = 1\n",
    "print(\"Value of long variable:\", a_very_long_variable_name_dont_name_them_this_long_pls)\n"
   ]
  }
 ],
 "metadata": {
  "kernelspec": {
   "display_name": "Python 3 (ipykernel)",
   "language": "python",
   "name": "python3"
  },
  "language_info": {
   "codemirror_mode": {
    "name": "ipython",
    "version": 3
   },
   "file_extension": ".py",
   "mimetype": "text/x-python",
   "name": "python",
   "nbconvert_exporter": "python",
   "pygments_lexer": "ipython3",
   "version": "3.12.11"
  }
 },
 "nbformat": 4,
 "nbformat_minor": 5
}
