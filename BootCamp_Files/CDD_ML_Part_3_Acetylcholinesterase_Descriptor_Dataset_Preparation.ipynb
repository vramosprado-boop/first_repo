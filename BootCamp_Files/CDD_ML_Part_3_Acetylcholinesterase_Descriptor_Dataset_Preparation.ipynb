{
 "cells": [
  {
   "cell_type": "markdown",
   "metadata": {
    "colab_type": "text",
    "id": "l0Y7_lgN4jzM"
   },
   "source": [
    "# **Bioinformatics Project - Computational Drug Discovery [Part 3] Descriptor Calculation and Dataset Preparation**\n",
    "\n",
    "Chanin Nantasenamat\n",
    "\n",
    "[*'Data Professor' YouTube channel*](http://youtube.com/dataprofessor)\n",
    "\n",
    "In this Jupyter notebook, we will be building a real-life **data science project** that you can include in your **data science portfolio**. Particularly, we will be building a machine learning model using the ChEMBL bioactivity data.\n",
    "\n",
    "In **Part 3**, we will be calculating molecular descriptors that are essentially quantitative description of the compounds in the dataset. Finally, we will be preparing this into a dataset for subsequent model building in Part 4.\n",
    "\n",
    "---"
   ]
  },
  {
   "cell_type": "markdown",
   "metadata": {
    "colab_type": "text",
    "id": "o-4IOizard4P"
   },
   "source": [
    "## **Download PaDEL-Descriptor**"
   ]
  },
  {
   "cell_type": "code",
   "execution_count": 15,
   "metadata": {},
   "outputs": [
    {
     "name": "stdout",
     "output_type": "stream",
     "text": [
      "Requirement already satisfied: padelpy in /opt/anaconda3/envs/rdkit_py3/lib/python3.11/site-packages (0.1.16)\n",
      "Note: you may need to restart the kernel to use updated packages.\n"
     ]
    }
   ],
   "source": [
    "pip install padelpy"
   ]
  },
  {
   "cell_type": "code",
   "execution_count": 18,
   "metadata": {},
   "outputs": [],
   "source": [
    "from padelpy import from_smiles\n",
    "import os\n",
    "\n",
    "# Set JAVA_HOME if needed\n",
    "os.environ[\"JAVA_HOME\"] = \"/Library/Java/JavaVirtualMachines/openjdk-17.jdk/Contents/Home\"\n",
    "\n",
    "# Example\n",
    "descriptors = from_smiles(\"CCC\", output_csv=\"output.csv\")"
   ]
  },
  {
   "cell_type": "code",
   "execution_count": 1,
   "metadata": {
    "colab": {
     "base_uri": "https://localhost:8080/",
     "height": 572
    },
    "colab_type": "code",
    "id": "H0mjQ2PcrSe5",
    "outputId": "7cd24f88-a9b5-445e-90fc-a2bde1f2aef8"
   },
   "outputs": [
    {
     "name": "stdout",
     "output_type": "stream",
     "text": [
      "--2025-10-29 13:30:01--  https://github.com/dataprofessor/padel/raw/main/fingerprints_xml.zip\n",
      "Resolving github.com (github.com)... 140.82.113.3\n",
      "Connecting to github.com (github.com)|140.82.113.3|:443... connected.\n",
      "HTTP request sent, awaiting response... 302 Found\n",
      "Location: https://raw.githubusercontent.com/dataprofessor/padel/main/fingerprints_xml.zip [following]\n",
      "--2025-10-29 13:30:01--  https://raw.githubusercontent.com/dataprofessor/padel/main/fingerprints_xml.zip\n",
      "Resolving raw.githubusercontent.com (raw.githubusercontent.com)... 185.199.110.133, 185.199.108.133, 185.199.111.133, ...\n",
      "Connecting to raw.githubusercontent.com (raw.githubusercontent.com)|185.199.110.133|:443... connected.\n",
      "HTTP request sent, awaiting response... 200 OK\n",
      "Length: 10871 (11K) [application/zip]\n",
      "Saving to: ‘fingerprints_xml.zip’\n",
      "\n",
      "fingerprints_xml.zi 100%[===================>]  10.62K  --.-KB/s    in 0.001s  \n",
      "\n",
      "2025-10-29 13:30:01 (16.0 MB/s) - ‘fingerprints_xml.zip’ saved [10871/10871]\n",
      "\n",
      "Archive:  fingerprints_xml.zip\n",
      "  inflating: AtomPairs2DFingerprintCount.xml  \n",
      "  inflating: AtomPairs2DFingerprinter.xml  \n",
      "  inflating: EStateFingerprinter.xml  \n",
      "  inflating: ExtendedFingerprinter.xml  \n",
      "  inflating: Fingerprinter.xml       \n",
      "  inflating: GraphOnlyFingerprinter.xml  \n",
      "  inflating: KlekotaRothFingerprintCount.xml  \n",
      "  inflating: KlekotaRothFingerprinter.xml  \n",
      "  inflating: MACCSFingerprinter.xml  \n",
      "  inflating: PubchemFingerprinter.xml  \n",
      "  inflating: SubstructureFingerprintCount.xml  \n",
      "  inflating: SubstructureFingerprinter.xml  \n"
     ]
    }
   ],
   "source": [
    "! wget https://github.com/dataprofessor/padel/raw/main/fingerprints_xml.zip\n",
    "! unzip fingerprints_xml.zip"
   ]
  },
  {
   "cell_type": "markdown",
   "metadata": {
    "colab_type": "text",
    "id": "QmxXXFa4wTNG"
   },
   "source": [
    "## **Load bioactivity data**"
   ]
  },
  {
   "cell_type": "markdown",
   "metadata": {
    "colab_type": "text",
    "id": "fcBvxkPWKFRV"
   },
   "source": [
    "Download the curated ChEMBL bioactivity data that has been pre-processed from Parts 1 and 2 of this Bioinformatics Project series. Here we will be using the **bioactivity_data_3class_pIC50.csv** file that essentially contain the pIC50 values that we will be using for building a regression model."
   ]
  },
  {
   "cell_type": "code",
   "execution_count": 4,
   "metadata": {
    "colab": {
     "base_uri": "https://localhost:8080/",
     "height": 208
    },
    "colab_type": "code",
    "id": "JBs7QdJoubWC",
    "outputId": "3d6bfdcd-1eb9-4930-8e43-45d217f7d22b"
   },
   "outputs": [
    {
     "name": "stdout",
     "output_type": "stream",
     "text": [
      "--2025-10-29 13:30:54--  https://raw.githubusercontent.com/dataprofessor/data/master/acetylcholinesterase_04_bioactivity_data_3class_pIC50.csv\n",
      "Resolving raw.githubusercontent.com (raw.githubusercontent.com)... 185.199.110.133, 185.199.108.133, 185.199.111.133, ...\n",
      "Connecting to raw.githubusercontent.com (raw.githubusercontent.com)|185.199.110.133|:443... connected.\n",
      "HTTP request sent, awaiting response... 200 OK\n",
      "Length: 655414 (640K) [text/plain]\n",
      "Saving to: ‘acetylcholinesterase_04_bioactivity_data_3class_pIC50.csv.5’\n",
      "\n",
      "acetylcholinesteras 100%[===================>] 640.05K  --.-KB/s    in 0.08s   \n",
      "\n",
      "2025-10-29 13:30:54 (8.14 MB/s) - ‘acetylcholinesterase_04_bioactivity_data_3class_pIC50.csv.5’ saved [655414/655414]\n",
      "\n"
     ]
    }
   ],
   "source": [
    "! wget https://raw.githubusercontent.com/dataprofessor/data/master/acetylcholinesterase_04_bioactivity_data_3class_pIC50.csv"
   ]
  },
  {
   "cell_type": "code",
   "execution_count": 5,
   "metadata": {
    "colab": {},
    "colab_type": "code",
    "id": "Fpu5C7HlwV9s"
   },
   "outputs": [],
   "source": [
    "import pandas as pd"
   ]
  },
  {
   "cell_type": "code",
   "execution_count": 6,
   "metadata": {
    "colab": {},
    "colab_type": "code",
    "id": "GCcE8J5XwjtB"
   },
   "outputs": [],
   "source": [
    "df3 = pd.read_csv('acetylcholinesterase_04_bioactivity_data_3class_pIC50.csv')"
   ]
  },
  {
   "cell_type": "code",
   "execution_count": 7,
   "metadata": {
    "colab": {
     "base_uri": "https://localhost:8080/",
     "height": 467
    },
    "colab_type": "code",
    "id": "60z_N6egNiSJ",
    "outputId": "4419acc9-ced7-4a45-b849-665ed5e0fd99"
   },
   "outputs": [
    {
     "data": {
      "text/html": [
       "<div>\n",
       "<style scoped>\n",
       "    .dataframe tbody tr th:only-of-type {\n",
       "        vertical-align: middle;\n",
       "    }\n",
       "\n",
       "    .dataframe tbody tr th {\n",
       "        vertical-align: top;\n",
       "    }\n",
       "\n",
       "    .dataframe thead th {\n",
       "        text-align: right;\n",
       "    }\n",
       "</style>\n",
       "<table border=\"1\" class=\"dataframe\">\n",
       "  <thead>\n",
       "    <tr style=\"text-align: right;\">\n",
       "      <th></th>\n",
       "      <th>Unnamed: 0</th>\n",
       "      <th>molecule_chembl_id</th>\n",
       "      <th>canonical_smiles</th>\n",
       "      <th>class</th>\n",
       "      <th>MW</th>\n",
       "      <th>LogP</th>\n",
       "      <th>NumHDonors</th>\n",
       "      <th>NumHAcceptors</th>\n",
       "      <th>pIC50</th>\n",
       "    </tr>\n",
       "  </thead>\n",
       "  <tbody>\n",
       "    <tr>\n",
       "      <th>0</th>\n",
       "      <td>0</td>\n",
       "      <td>CHEMBL133897</td>\n",
       "      <td>CCOc1nn(-c2cccc(OCc3ccccc3)c2)c(=O)o1</td>\n",
       "      <td>active</td>\n",
       "      <td>312.325</td>\n",
       "      <td>2.80320</td>\n",
       "      <td>0.0</td>\n",
       "      <td>6.0</td>\n",
       "      <td>6.124939</td>\n",
       "    </tr>\n",
       "    <tr>\n",
       "      <th>1</th>\n",
       "      <td>1</td>\n",
       "      <td>CHEMBL336398</td>\n",
       "      <td>O=C(N1CCCCC1)n1nc(-c2ccc(Cl)cc2)nc1SCC1CC1</td>\n",
       "      <td>active</td>\n",
       "      <td>376.913</td>\n",
       "      <td>4.55460</td>\n",
       "      <td>0.0</td>\n",
       "      <td>5.0</td>\n",
       "      <td>7.000000</td>\n",
       "    </tr>\n",
       "    <tr>\n",
       "      <th>2</th>\n",
       "      <td>2</td>\n",
       "      <td>CHEMBL131588</td>\n",
       "      <td>CN(C(=O)n1nc(-c2ccc(Cl)cc2)nc1SCC(F)(F)F)c1ccccc1</td>\n",
       "      <td>inactive</td>\n",
       "      <td>426.851</td>\n",
       "      <td>5.35740</td>\n",
       "      <td>0.0</td>\n",
       "      <td>5.0</td>\n",
       "      <td>4.301030</td>\n",
       "    </tr>\n",
       "    <tr>\n",
       "      <th>3</th>\n",
       "      <td>3</td>\n",
       "      <td>CHEMBL130628</td>\n",
       "      <td>O=C(N1CCCCC1)n1nc(-c2ccc(Cl)cc2)nc1SCC(F)(F)F</td>\n",
       "      <td>active</td>\n",
       "      <td>404.845</td>\n",
       "      <td>4.70690</td>\n",
       "      <td>0.0</td>\n",
       "      <td>5.0</td>\n",
       "      <td>6.522879</td>\n",
       "    </tr>\n",
       "    <tr>\n",
       "      <th>4</th>\n",
       "      <td>4</td>\n",
       "      <td>CHEMBL130478</td>\n",
       "      <td>CSc1nc(-c2ccc(OC(F)(F)F)cc2)nn1C(=O)N(C)C</td>\n",
       "      <td>active</td>\n",
       "      <td>346.334</td>\n",
       "      <td>3.09530</td>\n",
       "      <td>0.0</td>\n",
       "      <td>6.0</td>\n",
       "      <td>6.096910</td>\n",
       "    </tr>\n",
       "    <tr>\n",
       "      <th>...</th>\n",
       "      <td>...</td>\n",
       "      <td>...</td>\n",
       "      <td>...</td>\n",
       "      <td>...</td>\n",
       "      <td>...</td>\n",
       "      <td>...</td>\n",
       "      <td>...</td>\n",
       "      <td>...</td>\n",
       "      <td>...</td>\n",
       "    </tr>\n",
       "    <tr>\n",
       "      <th>4690</th>\n",
       "      <td>4690</td>\n",
       "      <td>CHEMBL4293155</td>\n",
       "      <td>CC(C)(C)c1cc(/C=C/C(=O)NCCC2CCN(Cc3ccccc3Cl)CC...</td>\n",
       "      <td>intermediate</td>\n",
       "      <td>511.150</td>\n",
       "      <td>7.07230</td>\n",
       "      <td>2.0</td>\n",
       "      <td>3.0</td>\n",
       "      <td>5.612610</td>\n",
       "    </tr>\n",
       "    <tr>\n",
       "      <th>4691</th>\n",
       "      <td>4691</td>\n",
       "      <td>CHEMBL4282558</td>\n",
       "      <td>CC(C)(C)c1cc(/C=C/C(=O)NCCC2CCN(Cc3cccc(Cl)c3)...</td>\n",
       "      <td>intermediate</td>\n",
       "      <td>511.150</td>\n",
       "      <td>7.07230</td>\n",
       "      <td>2.0</td>\n",
       "      <td>3.0</td>\n",
       "      <td>5.595166</td>\n",
       "    </tr>\n",
       "    <tr>\n",
       "      <th>4692</th>\n",
       "      <td>4692</td>\n",
       "      <td>CHEMBL4281727</td>\n",
       "      <td>CC(C)(C)c1cc(/C=C/C(=O)NCCC2CCN(Cc3ccc(Br)cc3)...</td>\n",
       "      <td>intermediate</td>\n",
       "      <td>555.601</td>\n",
       "      <td>7.18140</td>\n",
       "      <td>2.0</td>\n",
       "      <td>3.0</td>\n",
       "      <td>5.419075</td>\n",
       "    </tr>\n",
       "    <tr>\n",
       "      <th>4693</th>\n",
       "      <td>4693</td>\n",
       "      <td>CHEMBL4292349</td>\n",
       "      <td>CC(C)(C)c1cc(/C=C/C(=O)NCCC2CCN(Cc3cccc([N+](=...</td>\n",
       "      <td>intermediate</td>\n",
       "      <td>521.702</td>\n",
       "      <td>6.32710</td>\n",
       "      <td>2.0</td>\n",
       "      <td>5.0</td>\n",
       "      <td>5.460924</td>\n",
       "    </tr>\n",
       "    <tr>\n",
       "      <th>4694</th>\n",
       "      <td>4694</td>\n",
       "      <td>CHEMBL4278260</td>\n",
       "      <td>CC(C)(C)c1cc(/C=C/C(=O)NCCC2CCN(Cc3ccc(C#N)cc3...</td>\n",
       "      <td>intermediate</td>\n",
       "      <td>501.715</td>\n",
       "      <td>6.29058</td>\n",
       "      <td>2.0</td>\n",
       "      <td>4.0</td>\n",
       "      <td>5.555955</td>\n",
       "    </tr>\n",
       "  </tbody>\n",
       "</table>\n",
       "<p>4695 rows × 9 columns</p>\n",
       "</div>"
      ],
      "text/plain": [
       "      Unnamed: 0 molecule_chembl_id  \\\n",
       "0              0       CHEMBL133897   \n",
       "1              1       CHEMBL336398   \n",
       "2              2       CHEMBL131588   \n",
       "3              3       CHEMBL130628   \n",
       "4              4       CHEMBL130478   \n",
       "...          ...                ...   \n",
       "4690        4690      CHEMBL4293155   \n",
       "4691        4691      CHEMBL4282558   \n",
       "4692        4692      CHEMBL4281727   \n",
       "4693        4693      CHEMBL4292349   \n",
       "4694        4694      CHEMBL4278260   \n",
       "\n",
       "                                       canonical_smiles         class  \\\n",
       "0                 CCOc1nn(-c2cccc(OCc3ccccc3)c2)c(=O)o1        active   \n",
       "1            O=C(N1CCCCC1)n1nc(-c2ccc(Cl)cc2)nc1SCC1CC1        active   \n",
       "2     CN(C(=O)n1nc(-c2ccc(Cl)cc2)nc1SCC(F)(F)F)c1ccccc1      inactive   \n",
       "3         O=C(N1CCCCC1)n1nc(-c2ccc(Cl)cc2)nc1SCC(F)(F)F        active   \n",
       "4             CSc1nc(-c2ccc(OC(F)(F)F)cc2)nn1C(=O)N(C)C        active   \n",
       "...                                                 ...           ...   \n",
       "4690  CC(C)(C)c1cc(/C=C/C(=O)NCCC2CCN(Cc3ccccc3Cl)CC...  intermediate   \n",
       "4691  CC(C)(C)c1cc(/C=C/C(=O)NCCC2CCN(Cc3cccc(Cl)c3)...  intermediate   \n",
       "4692  CC(C)(C)c1cc(/C=C/C(=O)NCCC2CCN(Cc3ccc(Br)cc3)...  intermediate   \n",
       "4693  CC(C)(C)c1cc(/C=C/C(=O)NCCC2CCN(Cc3cccc([N+](=...  intermediate   \n",
       "4694  CC(C)(C)c1cc(/C=C/C(=O)NCCC2CCN(Cc3ccc(C#N)cc3...  intermediate   \n",
       "\n",
       "           MW     LogP  NumHDonors  NumHAcceptors     pIC50  \n",
       "0     312.325  2.80320         0.0            6.0  6.124939  \n",
       "1     376.913  4.55460         0.0            5.0  7.000000  \n",
       "2     426.851  5.35740         0.0            5.0  4.301030  \n",
       "3     404.845  4.70690         0.0            5.0  6.522879  \n",
       "4     346.334  3.09530         0.0            6.0  6.096910  \n",
       "...       ...      ...         ...            ...       ...  \n",
       "4690  511.150  7.07230         2.0            3.0  5.612610  \n",
       "4691  511.150  7.07230         2.0            3.0  5.595166  \n",
       "4692  555.601  7.18140         2.0            3.0  5.419075  \n",
       "4693  521.702  6.32710         2.0            5.0  5.460924  \n",
       "4694  501.715  6.29058         2.0            4.0  5.555955  \n",
       "\n",
       "[4695 rows x 9 columns]"
      ]
     },
     "execution_count": 7,
     "metadata": {},
     "output_type": "execute_result"
    }
   ],
   "source": [
    "df3"
   ]
  },
  {
   "cell_type": "code",
   "execution_count": 14,
   "metadata": {
    "colab": {},
    "colab_type": "code",
    "id": "BJDJkY43R-9F"
   },
   "outputs": [],
   "source": [
    "selection = ['canonical_smiles','molecule_chembl_id']\n",
    "df3_selection = df3[selection]\n",
    "df3_selection.to_csv('molecule.smi', sep='\\t', index=False, header=False)"
   ]
  },
  {
   "cell_type": "code",
   "execution_count": 15,
   "metadata": {
    "colab": {
     "base_uri": "https://localhost:8080/",
     "height": 104
    },
    "colab_type": "code",
    "id": "nRSCoPVDSkf5",
    "outputId": "2be43c1d-d8b8-42a8-93fc-4c1b29855a8a"
   },
   "outputs": [
    {
     "name": "stdout",
     "output_type": "stream",
     "text": [
      "CCOc1nn(-c2cccc(OCc3ccccc3)c2)c(=O)o1\tCHEMBL133897\n",
      "O=C(N1CCCCC1)n1nc(-c2ccc(Cl)cc2)nc1SCC1CC1\tCHEMBL336398\n",
      "CN(C(=O)n1nc(-c2ccc(Cl)cc2)nc1SCC(F)(F)F)c1ccccc1\tCHEMBL131588\n",
      "O=C(N1CCCCC1)n1nc(-c2ccc(Cl)cc2)nc1SCC(F)(F)F\tCHEMBL130628\n",
      "CSc1nc(-c2ccc(OC(F)(F)F)cc2)nn1C(=O)N(C)C\tCHEMBL130478\n",
      "cat: stdout: Broken pipe\n"
     ]
    }
   ],
   "source": [
    "! cat molecule.smi | head -5"
   ]
  },
  {
   "cell_type": "code",
   "execution_count": 16,
   "metadata": {
    "colab": {
     "base_uri": "https://localhost:8080/",
     "height": 35
    },
    "colab_type": "code",
    "id": "GlYaJ9pzUGjS",
    "outputId": "6dab2be5-172a-4efb-8b42-7ceef402bfa3"
   },
   "outputs": [
    {
     "name": "stdout",
     "output_type": "stream",
     "text": [
      "    4695\n"
     ]
    }
   ],
   "source": [
    "! cat molecule.smi | wc -l"
   ]
  },
  {
   "cell_type": "markdown",
   "metadata": {
    "colab_type": "text",
    "id": "YzN_S4Quro5S"
   },
   "source": [
    "## **Calculate fingerprint descriptors**\n"
   ]
  },
  {
   "cell_type": "markdown",
   "metadata": {
    "colab_type": "text",
    "id": "JsgTV-ByxdMa"
   },
   "source": [
    "### **Calculate PaDEL descriptors**"
   ]
  },
  {
   "cell_type": "code",
   "execution_count": 17,
   "metadata": {
    "colab": {
     "base_uri": "https://localhost:8080/",
     "height": 55
    },
    "colab_type": "code",
    "id": "hSCopQvEiSMj",
    "outputId": "77fe3614-69ef-4bd1-9dca-2a9b2c975fbb"
   },
   "outputs": [
    {
     "name": "stdout",
     "output_type": "stream",
     "text": [
      "cat: padel.sh: No such file or directory\n"
     ]
    }
   ],
   "source": [
    "! cat padel.sh"
   ]
  },
  {
   "cell_type": "code",
   "execution_count": 28,
   "metadata": {
    "colab": {
     "base_uri": "https://localhost:8080/",
     "height": 1000
    },
    "colab_type": "code",
    "id": "6kN9jrGpS5nE",
    "outputId": "456a4161-b3dd-44b9-bc82-2523976f25ea"
   },
   "outputs": [
    {
     "name": "stdout",
     "output_type": "stream",
     "text": [
      "bash: padel.sh: No such file or directory\n"
     ]
    }
   ],
   "source": [
    "#! bash padel.sh"
   ]
  },
  {
   "cell_type": "code",
   "execution_count": 29,
   "metadata": {
    "colab": {
     "base_uri": "https://localhost:8080/",
     "height": 173
    },
    "colab_type": "code",
    "id": "2p7rAVy_k_hH",
    "outputId": "7404029f-4d69-486c-97a2-faf6d4574971"
   },
   "outputs": [
    {
     "name": "stdout",
     "output_type": "stream",
     "text": [
      "total 718808\n",
      "-rw-r--r--  1 valeriaramosprado  staff    124747 Oct  1 13:55 CDD_ML_Part_1_Acetylcholinesterase_Bioactivity_Data_Concised.ipynb\n",
      "-rw-r--r--  1 valeriaramosprado  staff    404298 Oct 15 13:26 CDD_ML_Part_2_Acetylcholinesterase_Exploratory_Data_Analysis.ipynb\n",
      "-rw-r--r--  1 valeriaramosprado  staff    129593 Oct 22 12:56 CDD_ML_Part_3_Acetylcholinesterase_Descriptor_Dataset_Preparation.ipynb\n",
      "-rw-r--r--  1 valeriaramosprado  staff    100076 Oct  1 13:55 CDD_ML_Part_4_Acetylcholinesterase_Regression_Random_Forest.ipynb\n",
      "-rw-r--r--  1 valeriaramosprado  staff    230778 Oct  1 13:55 CDD_ML_Part_5_Acetylcholinesterase_Compare_Regressors.ipynb\n",
      "-rwxr-xr-x  1 valeriaramosprado  staff  85055499 Feb 13  2025 \u001b[31mMiniconda3-py37_4.8.2-Linux-x86_64.sh\u001b[m\u001b[m\n",
      "-rw-r--r--  1 valeriaramosprado  staff  85055499 Feb 13  2025 Miniconda3-py37_4.8.2-Linux-x86_64.sh.1\n",
      "-rw-r--r--  1 valeriaramosprado  staff  85055499 Feb 13  2025 Miniconda3-py37_4.8.2-Linux-x86_64.sh.2\n",
      "-rw-r--r--  1 valeriaramosprado  staff  85055499 Feb 13  2025 Miniconda3-py37_4.8.2-Linux-x86_64.sh.3\n",
      "-rw-r--r--  1 valeriaramosprado  staff        29 Oct  1 13:55 README.md\n",
      "-rw-r--r--  1 valeriaramosprado  staff   3562870 Oct  1 13:55 acetylcholinesterase_01_bioactivity_data_raw.csv\n",
      "-rw-r--r--  1 valeriaramosprado  staff    342989 Oct  1 13:55 acetylcholinesterase_02_bioactivity_data_preprocessed.csv\n",
      "-rw-r--r--  1 valeriaramosprado  staff    385924 Oct  1 13:55 acetylcholinesterase_03_bioactivity_data_curated.csv\n",
      "-rw-r--r--  1 valeriaramosprado  staff    385924 Oct 15 12:44 acetylcholinesterase_03_bioactivity_data_curated.csv.1\n",
      "-rw-r--r--  1 valeriaramosprado  staff    385924 Oct 15 12:49 acetylcholinesterase_03_bioactivity_data_curated.csv.2\n",
      "-rw-r--r--  1 valeriaramosprado  staff    385924 Oct 15 13:08 acetylcholinesterase_03_bioactivity_data_curated.csv.3\n",
      "-rw-r--r--  1 valeriaramosprado  staff    385924 Oct 15 13:20 acetylcholinesterase_03_bioactivity_data_curated.csv.4\n",
      "-rw-r--r--  1 valeriaramosprado  staff    655402 Oct 15 13:21 acetylcholinesterase_04_bioactivity_data_3class_pIC50.csv\n",
      "-rw-r--r--  1 valeriaramosprado  staff    655414 Oct 22 12:15 acetylcholinesterase_04_bioactivity_data_3class_pIC50.csv.1\n",
      "-rw-r--r--  1 valeriaramosprado  staff    655414 Oct 22 12:20 acetylcholinesterase_04_bioactivity_data_3class_pIC50.csv.2\n",
      "-rw-r--r--  1 valeriaramosprado  staff    655414 Oct 22 12:55 acetylcholinesterase_04_bioactivity_data_3class_pIC50.csv.3\n",
      "-rw-r--r--  1 valeriaramosprado  staff    489145 Oct 15 13:21 acetylcholinesterase_05_bioactivity_data_2class_pIC50.csv\n",
      "-rw-r--r--  1 valeriaramosprado  staff   8363909 Oct  1 13:55 acetylcholinesterase_06_bioactivity_data_3class_pIC50_pubchem_fp.csv\n",
      "-rw-r--r--  1 valeriaramosprado  staff   6323895 Oct  1 13:55 acetylcholinesterase_07_bioactivity_data_2class_pIC50_pubchem_fp.csv\n",
      "-rw-r--r--  1 valeriaramosprado  staff      6574 Oct  1 13:52 filtered_mantamonis.xlsx\n",
      "-rw-r--r--  1 valeriaramosprado  staff       125 Oct 15 13:22 mannwhitneyu_LogP.csv\n",
      "-rw-r--r--  1 valeriaramosprado  staff       124 Oct 15 13:22 mannwhitneyu_MW.csv\n",
      "-rw-r--r--  1 valeriaramosprado  staff       134 Oct 15 13:23 mannwhitneyu_NumHAcceptors.csv\n",
      "-rw-r--r--  1 valeriaramosprado  staff       131 Oct 15 13:23 mannwhitneyu_NumHDonors.csv\n",
      "-rw-r--r--  1 valeriaramosprado  staff       108 Oct 15 13:22 mannwhitneyu_pIC50.csv\n",
      "-rw-r--r--  1 valeriaramosprado  staff    310658 Oct 22 12:56 molecule.smi\n",
      "-rw-r--r--  1 valeriaramosprado  staff     32650 Oct 22 12:55 output.csv\n",
      "-rw-r--r--  1 valeriaramosprado  staff     15721 Oct 15 13:22 plot_LogP.pdf\n",
      "-rw-r--r--  1 valeriaramosprado  staff     14765 Oct 15 13:22 plot_MW.pdf\n",
      "-rw-r--r--  1 valeriaramosprado  staff    622961 Oct 15 13:22 plot_MW_vs_LogP.pdf\n",
      "-rw-r--r--  1 valeriaramosprado  staff     16093 Oct 15 13:23 plot_NumHAcceptors.pdf\n",
      "-rw-r--r--  1 valeriaramosprado  staff     15855 Oct 15 13:22 plot_NumHDonors.pdf\n",
      "-rw-r--r--  1 valeriaramosprado  staff     14234 Oct 15 13:22 plot_bioactivity_class.pdf\n",
      "-rw-r--r--  1 valeriaramosprado  staff     16525 Oct 15 13:22 plot_ic50.pdf\n",
      "-rw-r--r--  1 valeriaramosprado  staff      2411 Oct  1 13:52 practice_code.ipynb\n",
      "-rw-r--r--  1 valeriaramosprado  staff   2017238 Oct 15 13:23 results.zip\n"
     ]
    }
   ],
   "source": [
    "#! ls -l"
   ]
  },
  {
   "cell_type": "code",
   "execution_count": 15,
   "metadata": {},
   "outputs": [
    {
     "name": "stdout",
     "output_type": "stream",
     "text": [
      "                                                 ABC  \\\n",
      "0  module 'numpy' has no attribute 'float'.\\n`np....   \n",
      "1  module 'numpy' has no attribute 'float'.\\n`np....   \n",
      "2  module 'numpy' has no attribute 'float'.\\n`np....   \n",
      "\n",
      "                                               ABCGG  nAcid  nBase   SpAbs_A  \\\n",
      "0  module 'numpy' has no attribute 'float'.\\n`np....      0      0  2.828427   \n",
      "1  module 'numpy' has no attribute 'float'.\\n`np....      0      0  2.828427   \n",
      "2  module 'numpy' has no attribute 'float'.\\n`np....      0      1  2.828427   \n",
      "\n",
      "    SpMax_A  SpDiam_A    SpAD_A   SpMAD_A   LogEE_A  ...     SRW10     TSRW10  \\\n",
      "0  1.414214  2.828427  2.828427  0.942809  1.849457  ...  4.174387  17.310771   \n",
      "1  1.414214  2.828427  2.828427  0.942809  1.849457  ...  4.174387  17.310771   \n",
      "2  1.414214  2.828427  2.828427  0.942809  1.849457  ...  4.174387  17.310771   \n",
      "\n",
      "          MW       AMW  WPath  WPol  Zagreb1  Zagreb2  mZagreb1  mZagreb2  \n",
      "0  44.062600  4.005691      4     0      6.0      4.0      2.25       1.0  \n",
      "1  46.041865  5.115763      4     0      6.0      4.0      2.25       1.0  \n",
      "2  45.057849  4.505785      4     0      6.0      4.0      2.25       1.0  \n",
      "\n",
      "[3 rows x 1613 columns]\n"
     ]
    }
   ],
   "source": [
    "from rdkit import Chem\n",
    "from mordred import Calculator, descriptors\n",
    "import pandas as pd\n",
    "\n",
    "# Example: list of SMILES\n",
    "smiles_list = [\"CCC\", \"CCO\", \"CCN\"]  # replace with your molecules\n",
    "\n",
    "# Convert to RDKit molecule objects\n",
    "mols = [Chem.MolFromSmiles(sm) for sm in smiles_list]\n",
    "\n",
    "# Set up Mordred calculator\n",
    "calc = Calculator(descriptors, ignore_3D=True)\n",
    "\n",
    "# Calculate descriptors\n",
    "df = calc.pandas(mols)\n",
    "\n",
    "# Save to CSV (this creates the file)\n",
    "df.to_csv('descriptors_output.csv', index=False)\n",
    "\n",
    "# Now you can read it safely\n",
    "df3_X = pd.read_csv('descriptors_output.csv')\n",
    "print(df3_X.head())\n"
   ]
  },
  {
   "cell_type": "code",
   "execution_count": 16,
   "metadata": {},
   "outputs": [],
   "source": [
    "import pandas as pd\n",
    "df3_X = pd.read_csv('descriptors_output.csv')"
   ]
  },
  {
   "cell_type": "markdown",
   "metadata": {
    "colab_type": "text",
    "id": "gUMlPfFrxicj"
   },
   "source": [
    "## **Preparing the X and Y Data Matrices**"
   ]
  },
  {
   "cell_type": "markdown",
   "metadata": {
    "colab_type": "text",
    "id": "30aa4WP4ZA8M"
   },
   "source": [
    "### **X data matrix**"
   ]
  },
  {
   "cell_type": "code",
   "execution_count": 17,
   "metadata": {
    "colab": {},
    "colab_type": "code",
    "id": "3g319qxVl7tY"
   },
   "outputs": [],
   "source": [
    "df3_X = pd.read_csv('descriptors_output.csv')"
   ]
  },
  {
   "cell_type": "code",
   "execution_count": 18,
   "metadata": {
    "colab": {
     "base_uri": "https://localhost:8080/",
     "height": 435
    },
    "colab_type": "code",
    "id": "hBp1PTObFQDd",
    "outputId": "26a4603a-d1b2-4d64-e1c8-cf5fd0612bbf"
   },
   "outputs": [
    {
     "data": {
      "text/html": [
       "<div>\n",
       "<style scoped>\n",
       "    .dataframe tbody tr th:only-of-type {\n",
       "        vertical-align: middle;\n",
       "    }\n",
       "\n",
       "    .dataframe tbody tr th {\n",
       "        vertical-align: top;\n",
       "    }\n",
       "\n",
       "    .dataframe thead th {\n",
       "        text-align: right;\n",
       "    }\n",
       "</style>\n",
       "<table border=\"1\" class=\"dataframe\">\n",
       "  <thead>\n",
       "    <tr style=\"text-align: right;\">\n",
       "      <th></th>\n",
       "      <th>ABC</th>\n",
       "      <th>ABCGG</th>\n",
       "      <th>nAcid</th>\n",
       "      <th>nBase</th>\n",
       "      <th>SpAbs_A</th>\n",
       "      <th>SpMax_A</th>\n",
       "      <th>SpDiam_A</th>\n",
       "      <th>SpAD_A</th>\n",
       "      <th>SpMAD_A</th>\n",
       "      <th>LogEE_A</th>\n",
       "      <th>...</th>\n",
       "      <th>SRW10</th>\n",
       "      <th>TSRW10</th>\n",
       "      <th>MW</th>\n",
       "      <th>AMW</th>\n",
       "      <th>WPath</th>\n",
       "      <th>WPol</th>\n",
       "      <th>Zagreb1</th>\n",
       "      <th>Zagreb2</th>\n",
       "      <th>mZagreb1</th>\n",
       "      <th>mZagreb2</th>\n",
       "    </tr>\n",
       "  </thead>\n",
       "  <tbody>\n",
       "    <tr>\n",
       "      <th>0</th>\n",
       "      <td>module 'numpy' has no attribute 'float'.\\n`np....</td>\n",
       "      <td>module 'numpy' has no attribute 'float'.\\n`np....</td>\n",
       "      <td>0</td>\n",
       "      <td>0</td>\n",
       "      <td>2.828427</td>\n",
       "      <td>1.414214</td>\n",
       "      <td>2.828427</td>\n",
       "      <td>2.828427</td>\n",
       "      <td>0.942809</td>\n",
       "      <td>1.849457</td>\n",
       "      <td>...</td>\n",
       "      <td>4.174387</td>\n",
       "      <td>17.310771</td>\n",
       "      <td>44.062600</td>\n",
       "      <td>4.005691</td>\n",
       "      <td>4</td>\n",
       "      <td>0</td>\n",
       "      <td>6.0</td>\n",
       "      <td>4.0</td>\n",
       "      <td>2.25</td>\n",
       "      <td>1.0</td>\n",
       "    </tr>\n",
       "    <tr>\n",
       "      <th>1</th>\n",
       "      <td>module 'numpy' has no attribute 'float'.\\n`np....</td>\n",
       "      <td>module 'numpy' has no attribute 'float'.\\n`np....</td>\n",
       "      <td>0</td>\n",
       "      <td>0</td>\n",
       "      <td>2.828427</td>\n",
       "      <td>1.414214</td>\n",
       "      <td>2.828427</td>\n",
       "      <td>2.828427</td>\n",
       "      <td>0.942809</td>\n",
       "      <td>1.849457</td>\n",
       "      <td>...</td>\n",
       "      <td>4.174387</td>\n",
       "      <td>17.310771</td>\n",
       "      <td>46.041865</td>\n",
       "      <td>5.115763</td>\n",
       "      <td>4</td>\n",
       "      <td>0</td>\n",
       "      <td>6.0</td>\n",
       "      <td>4.0</td>\n",
       "      <td>2.25</td>\n",
       "      <td>1.0</td>\n",
       "    </tr>\n",
       "    <tr>\n",
       "      <th>2</th>\n",
       "      <td>module 'numpy' has no attribute 'float'.\\n`np....</td>\n",
       "      <td>module 'numpy' has no attribute 'float'.\\n`np....</td>\n",
       "      <td>0</td>\n",
       "      <td>1</td>\n",
       "      <td>2.828427</td>\n",
       "      <td>1.414214</td>\n",
       "      <td>2.828427</td>\n",
       "      <td>2.828427</td>\n",
       "      <td>0.942809</td>\n",
       "      <td>1.849457</td>\n",
       "      <td>...</td>\n",
       "      <td>4.174387</td>\n",
       "      <td>17.310771</td>\n",
       "      <td>45.057849</td>\n",
       "      <td>4.505785</td>\n",
       "      <td>4</td>\n",
       "      <td>0</td>\n",
       "      <td>6.0</td>\n",
       "      <td>4.0</td>\n",
       "      <td>2.25</td>\n",
       "      <td>1.0</td>\n",
       "    </tr>\n",
       "  </tbody>\n",
       "</table>\n",
       "<p>3 rows × 1613 columns</p>\n",
       "</div>"
      ],
      "text/plain": [
       "                                                 ABC  \\\n",
       "0  module 'numpy' has no attribute 'float'.\\n`np....   \n",
       "1  module 'numpy' has no attribute 'float'.\\n`np....   \n",
       "2  module 'numpy' has no attribute 'float'.\\n`np....   \n",
       "\n",
       "                                               ABCGG  nAcid  nBase   SpAbs_A  \\\n",
       "0  module 'numpy' has no attribute 'float'.\\n`np....      0      0  2.828427   \n",
       "1  module 'numpy' has no attribute 'float'.\\n`np....      0      0  2.828427   \n",
       "2  module 'numpy' has no attribute 'float'.\\n`np....      0      1  2.828427   \n",
       "\n",
       "    SpMax_A  SpDiam_A    SpAD_A   SpMAD_A   LogEE_A  ...     SRW10     TSRW10  \\\n",
       "0  1.414214  2.828427  2.828427  0.942809  1.849457  ...  4.174387  17.310771   \n",
       "1  1.414214  2.828427  2.828427  0.942809  1.849457  ...  4.174387  17.310771   \n",
       "2  1.414214  2.828427  2.828427  0.942809  1.849457  ...  4.174387  17.310771   \n",
       "\n",
       "          MW       AMW  WPath  WPol  Zagreb1  Zagreb2  mZagreb1  mZagreb2  \n",
       "0  44.062600  4.005691      4     0      6.0      4.0      2.25       1.0  \n",
       "1  46.041865  5.115763      4     0      6.0      4.0      2.25       1.0  \n",
       "2  45.057849  4.505785      4     0      6.0      4.0      2.25       1.0  \n",
       "\n",
       "[3 rows x 1613 columns]"
      ]
     },
     "execution_count": 18,
     "metadata": {},
     "output_type": "execute_result"
    }
   ],
   "source": [
    "df3_X"
   ]
  },
  {
   "cell_type": "code",
   "execution_count": 19,
   "metadata": {
    "colab": {
     "base_uri": "https://localhost:8080/",
     "height": 435
    },
    "colab_type": "code",
    "id": "dTJsDPBKq_hr",
    "outputId": "c92c4d7d-6df7-40b0-a7b8-ce644bacb52a"
   },
   "outputs": [
    {
     "data": {
      "text/html": [
       "<div>\n",
       "<style scoped>\n",
       "    .dataframe tbody tr th:only-of-type {\n",
       "        vertical-align: middle;\n",
       "    }\n",
       "\n",
       "    .dataframe tbody tr th {\n",
       "        vertical-align: top;\n",
       "    }\n",
       "\n",
       "    .dataframe thead th {\n",
       "        text-align: right;\n",
       "    }\n",
       "</style>\n",
       "<table border=\"1\" class=\"dataframe\">\n",
       "  <thead>\n",
       "    <tr style=\"text-align: right;\">\n",
       "      <th></th>\n",
       "      <th>ABC</th>\n",
       "      <th>ABCGG</th>\n",
       "      <th>nAcid</th>\n",
       "      <th>nBase</th>\n",
       "      <th>SpAbs_A</th>\n",
       "      <th>SpMax_A</th>\n",
       "      <th>SpDiam_A</th>\n",
       "      <th>SpAD_A</th>\n",
       "      <th>SpMAD_A</th>\n",
       "      <th>LogEE_A</th>\n",
       "      <th>...</th>\n",
       "      <th>SRW10</th>\n",
       "      <th>TSRW10</th>\n",
       "      <th>MW</th>\n",
       "      <th>AMW</th>\n",
       "      <th>WPath</th>\n",
       "      <th>WPol</th>\n",
       "      <th>Zagreb1</th>\n",
       "      <th>Zagreb2</th>\n",
       "      <th>mZagreb1</th>\n",
       "      <th>mZagreb2</th>\n",
       "    </tr>\n",
       "  </thead>\n",
       "  <tbody>\n",
       "    <tr>\n",
       "      <th>0</th>\n",
       "      <td>module 'numpy' has no attribute 'float'.\\n`np....</td>\n",
       "      <td>module 'numpy' has no attribute 'float'.\\n`np....</td>\n",
       "      <td>0</td>\n",
       "      <td>0</td>\n",
       "      <td>2.828427</td>\n",
       "      <td>1.414214</td>\n",
       "      <td>2.828427</td>\n",
       "      <td>2.828427</td>\n",
       "      <td>0.942809</td>\n",
       "      <td>1.849457</td>\n",
       "      <td>...</td>\n",
       "      <td>4.174387</td>\n",
       "      <td>17.310771</td>\n",
       "      <td>44.062600</td>\n",
       "      <td>4.005691</td>\n",
       "      <td>4</td>\n",
       "      <td>0</td>\n",
       "      <td>6.0</td>\n",
       "      <td>4.0</td>\n",
       "      <td>2.25</td>\n",
       "      <td>1.0</td>\n",
       "    </tr>\n",
       "    <tr>\n",
       "      <th>1</th>\n",
       "      <td>module 'numpy' has no attribute 'float'.\\n`np....</td>\n",
       "      <td>module 'numpy' has no attribute 'float'.\\n`np....</td>\n",
       "      <td>0</td>\n",
       "      <td>0</td>\n",
       "      <td>2.828427</td>\n",
       "      <td>1.414214</td>\n",
       "      <td>2.828427</td>\n",
       "      <td>2.828427</td>\n",
       "      <td>0.942809</td>\n",
       "      <td>1.849457</td>\n",
       "      <td>...</td>\n",
       "      <td>4.174387</td>\n",
       "      <td>17.310771</td>\n",
       "      <td>46.041865</td>\n",
       "      <td>5.115763</td>\n",
       "      <td>4</td>\n",
       "      <td>0</td>\n",
       "      <td>6.0</td>\n",
       "      <td>4.0</td>\n",
       "      <td>2.25</td>\n",
       "      <td>1.0</td>\n",
       "    </tr>\n",
       "    <tr>\n",
       "      <th>2</th>\n",
       "      <td>module 'numpy' has no attribute 'float'.\\n`np....</td>\n",
       "      <td>module 'numpy' has no attribute 'float'.\\n`np....</td>\n",
       "      <td>0</td>\n",
       "      <td>1</td>\n",
       "      <td>2.828427</td>\n",
       "      <td>1.414214</td>\n",
       "      <td>2.828427</td>\n",
       "      <td>2.828427</td>\n",
       "      <td>0.942809</td>\n",
       "      <td>1.849457</td>\n",
       "      <td>...</td>\n",
       "      <td>4.174387</td>\n",
       "      <td>17.310771</td>\n",
       "      <td>45.057849</td>\n",
       "      <td>4.505785</td>\n",
       "      <td>4</td>\n",
       "      <td>0</td>\n",
       "      <td>6.0</td>\n",
       "      <td>4.0</td>\n",
       "      <td>2.25</td>\n",
       "      <td>1.0</td>\n",
       "    </tr>\n",
       "  </tbody>\n",
       "</table>\n",
       "<p>3 rows × 1613 columns</p>\n",
       "</div>"
      ],
      "text/plain": [
       "                                                 ABC  \\\n",
       "0  module 'numpy' has no attribute 'float'.\\n`np....   \n",
       "1  module 'numpy' has no attribute 'float'.\\n`np....   \n",
       "2  module 'numpy' has no attribute 'float'.\\n`np....   \n",
       "\n",
       "                                               ABCGG  nAcid  nBase   SpAbs_A  \\\n",
       "0  module 'numpy' has no attribute 'float'.\\n`np....      0      0  2.828427   \n",
       "1  module 'numpy' has no attribute 'float'.\\n`np....      0      0  2.828427   \n",
       "2  module 'numpy' has no attribute 'float'.\\n`np....      0      1  2.828427   \n",
       "\n",
       "    SpMax_A  SpDiam_A    SpAD_A   SpMAD_A   LogEE_A  ...     SRW10     TSRW10  \\\n",
       "0  1.414214  2.828427  2.828427  0.942809  1.849457  ...  4.174387  17.310771   \n",
       "1  1.414214  2.828427  2.828427  0.942809  1.849457  ...  4.174387  17.310771   \n",
       "2  1.414214  2.828427  2.828427  0.942809  1.849457  ...  4.174387  17.310771   \n",
       "\n",
       "          MW       AMW  WPath  WPol  Zagreb1  Zagreb2  mZagreb1  mZagreb2  \n",
       "0  44.062600  4.005691      4     0      6.0      4.0      2.25       1.0  \n",
       "1  46.041865  5.115763      4     0      6.0      4.0      2.25       1.0  \n",
       "2  45.057849  4.505785      4     0      6.0      4.0      2.25       1.0  \n",
       "\n",
       "[3 rows x 1613 columns]"
      ]
     },
     "execution_count": 19,
     "metadata": {},
     "output_type": "execute_result"
    }
   ],
   "source": [
    "# Only do this if 'Name' exists\n",
    "if 'Name' in df3_X.columns:\n",
    "    df3_X = df3_X.drop(columns=['Name'])\n",
    "\n",
    "df3_X\n"
   ]
  },
  {
   "cell_type": "markdown",
   "metadata": {
    "colab_type": "text",
    "id": "6ePu814KZNBG"
   },
   "source": [
    "## **Y variable**"
   ]
  },
  {
   "cell_type": "markdown",
   "metadata": {
    "colab_type": "text",
    "id": "9ssfxFCdr7ua"
   },
   "source": [
    "### **Convert IC50 to pIC50**"
   ]
  },
  {
   "cell_type": "code",
   "execution_count": 20,
   "metadata": {
    "colab": {
     "base_uri": "https://localhost:8080/",
     "height": 225
    },
    "colab_type": "code",
    "id": "FlhsSEW5FXTG",
    "outputId": "ef224d6b-4cf3-4bde-fe83-d2e43f6e246c"
   },
   "outputs": [
    {
     "data": {
      "text/plain": [
       "0       6.124939\n",
       "1       7.000000\n",
       "2       4.301030\n",
       "3       6.522879\n",
       "4       6.096910\n",
       "          ...   \n",
       "4690    5.612610\n",
       "4691    5.595166\n",
       "4692    5.419075\n",
       "4693    5.460924\n",
       "4694    5.555955\n",
       "Name: pIC50, Length: 4695, dtype: float64"
      ]
     },
     "execution_count": 20,
     "metadata": {},
     "output_type": "execute_result"
    }
   ],
   "source": [
    "df3_Y = df3['pIC50']\n",
    "df3_Y"
   ]
  },
  {
   "cell_type": "markdown",
   "metadata": {
    "colab_type": "text",
    "id": "eET6iZ1Aw3oe"
   },
   "source": [
    "## **Combining X and Y variable**"
   ]
  },
  {
   "cell_type": "code",
   "execution_count": 21,
   "metadata": {
    "colab": {
     "base_uri": "https://localhost:8080/",
     "height": 435
    },
    "colab_type": "code",
    "id": "FRBfBP3QxFJp",
    "outputId": "ee900c26-ff5c-4e20-a3fb-7b1f9367db66"
   },
   "outputs": [
    {
     "data": {
      "text/html": [
       "<div>\n",
       "<style scoped>\n",
       "    .dataframe tbody tr th:only-of-type {\n",
       "        vertical-align: middle;\n",
       "    }\n",
       "\n",
       "    .dataframe tbody tr th {\n",
       "        vertical-align: top;\n",
       "    }\n",
       "\n",
       "    .dataframe thead th {\n",
       "        text-align: right;\n",
       "    }\n",
       "</style>\n",
       "<table border=\"1\" class=\"dataframe\">\n",
       "  <thead>\n",
       "    <tr style=\"text-align: right;\">\n",
       "      <th></th>\n",
       "      <th>ABC</th>\n",
       "      <th>ABCGG</th>\n",
       "      <th>nAcid</th>\n",
       "      <th>nBase</th>\n",
       "      <th>SpAbs_A</th>\n",
       "      <th>SpMax_A</th>\n",
       "      <th>SpDiam_A</th>\n",
       "      <th>SpAD_A</th>\n",
       "      <th>SpMAD_A</th>\n",
       "      <th>LogEE_A</th>\n",
       "      <th>...</th>\n",
       "      <th>TSRW10</th>\n",
       "      <th>MW</th>\n",
       "      <th>AMW</th>\n",
       "      <th>WPath</th>\n",
       "      <th>WPol</th>\n",
       "      <th>Zagreb1</th>\n",
       "      <th>Zagreb2</th>\n",
       "      <th>mZagreb1</th>\n",
       "      <th>mZagreb2</th>\n",
       "      <th>pIC50</th>\n",
       "    </tr>\n",
       "  </thead>\n",
       "  <tbody>\n",
       "    <tr>\n",
       "      <th>0</th>\n",
       "      <td>module 'numpy' has no attribute 'float'.\\n`np....</td>\n",
       "      <td>module 'numpy' has no attribute 'float'.\\n`np....</td>\n",
       "      <td>0.0</td>\n",
       "      <td>0.0</td>\n",
       "      <td>2.828427</td>\n",
       "      <td>1.414214</td>\n",
       "      <td>2.828427</td>\n",
       "      <td>2.828427</td>\n",
       "      <td>0.942809</td>\n",
       "      <td>1.849457</td>\n",
       "      <td>...</td>\n",
       "      <td>17.310771</td>\n",
       "      <td>44.062600</td>\n",
       "      <td>4.005691</td>\n",
       "      <td>4.0</td>\n",
       "      <td>0.0</td>\n",
       "      <td>6.0</td>\n",
       "      <td>4.0</td>\n",
       "      <td>2.25</td>\n",
       "      <td>1.0</td>\n",
       "      <td>6.124939</td>\n",
       "    </tr>\n",
       "    <tr>\n",
       "      <th>1</th>\n",
       "      <td>module 'numpy' has no attribute 'float'.\\n`np....</td>\n",
       "      <td>module 'numpy' has no attribute 'float'.\\n`np....</td>\n",
       "      <td>0.0</td>\n",
       "      <td>0.0</td>\n",
       "      <td>2.828427</td>\n",
       "      <td>1.414214</td>\n",
       "      <td>2.828427</td>\n",
       "      <td>2.828427</td>\n",
       "      <td>0.942809</td>\n",
       "      <td>1.849457</td>\n",
       "      <td>...</td>\n",
       "      <td>17.310771</td>\n",
       "      <td>46.041865</td>\n",
       "      <td>5.115763</td>\n",
       "      <td>4.0</td>\n",
       "      <td>0.0</td>\n",
       "      <td>6.0</td>\n",
       "      <td>4.0</td>\n",
       "      <td>2.25</td>\n",
       "      <td>1.0</td>\n",
       "      <td>7.000000</td>\n",
       "    </tr>\n",
       "    <tr>\n",
       "      <th>2</th>\n",
       "      <td>module 'numpy' has no attribute 'float'.\\n`np....</td>\n",
       "      <td>module 'numpy' has no attribute 'float'.\\n`np....</td>\n",
       "      <td>0.0</td>\n",
       "      <td>1.0</td>\n",
       "      <td>2.828427</td>\n",
       "      <td>1.414214</td>\n",
       "      <td>2.828427</td>\n",
       "      <td>2.828427</td>\n",
       "      <td>0.942809</td>\n",
       "      <td>1.849457</td>\n",
       "      <td>...</td>\n",
       "      <td>17.310771</td>\n",
       "      <td>45.057849</td>\n",
       "      <td>4.505785</td>\n",
       "      <td>4.0</td>\n",
       "      <td>0.0</td>\n",
       "      <td>6.0</td>\n",
       "      <td>4.0</td>\n",
       "      <td>2.25</td>\n",
       "      <td>1.0</td>\n",
       "      <td>4.301030</td>\n",
       "    </tr>\n",
       "    <tr>\n",
       "      <th>3</th>\n",
       "      <td>NaN</td>\n",
       "      <td>NaN</td>\n",
       "      <td>NaN</td>\n",
       "      <td>NaN</td>\n",
       "      <td>NaN</td>\n",
       "      <td>NaN</td>\n",
       "      <td>NaN</td>\n",
       "      <td>NaN</td>\n",
       "      <td>NaN</td>\n",
       "      <td>NaN</td>\n",
       "      <td>...</td>\n",
       "      <td>NaN</td>\n",
       "      <td>NaN</td>\n",
       "      <td>NaN</td>\n",
       "      <td>NaN</td>\n",
       "      <td>NaN</td>\n",
       "      <td>NaN</td>\n",
       "      <td>NaN</td>\n",
       "      <td>NaN</td>\n",
       "      <td>NaN</td>\n",
       "      <td>6.522879</td>\n",
       "    </tr>\n",
       "    <tr>\n",
       "      <th>4</th>\n",
       "      <td>NaN</td>\n",
       "      <td>NaN</td>\n",
       "      <td>NaN</td>\n",
       "      <td>NaN</td>\n",
       "      <td>NaN</td>\n",
       "      <td>NaN</td>\n",
       "      <td>NaN</td>\n",
       "      <td>NaN</td>\n",
       "      <td>NaN</td>\n",
       "      <td>NaN</td>\n",
       "      <td>...</td>\n",
       "      <td>NaN</td>\n",
       "      <td>NaN</td>\n",
       "      <td>NaN</td>\n",
       "      <td>NaN</td>\n",
       "      <td>NaN</td>\n",
       "      <td>NaN</td>\n",
       "      <td>NaN</td>\n",
       "      <td>NaN</td>\n",
       "      <td>NaN</td>\n",
       "      <td>6.096910</td>\n",
       "    </tr>\n",
       "    <tr>\n",
       "      <th>...</th>\n",
       "      <td>...</td>\n",
       "      <td>...</td>\n",
       "      <td>...</td>\n",
       "      <td>...</td>\n",
       "      <td>...</td>\n",
       "      <td>...</td>\n",
       "      <td>...</td>\n",
       "      <td>...</td>\n",
       "      <td>...</td>\n",
       "      <td>...</td>\n",
       "      <td>...</td>\n",
       "      <td>...</td>\n",
       "      <td>...</td>\n",
       "      <td>...</td>\n",
       "      <td>...</td>\n",
       "      <td>...</td>\n",
       "      <td>...</td>\n",
       "      <td>...</td>\n",
       "      <td>...</td>\n",
       "      <td>...</td>\n",
       "      <td>...</td>\n",
       "    </tr>\n",
       "    <tr>\n",
       "      <th>4690</th>\n",
       "      <td>NaN</td>\n",
       "      <td>NaN</td>\n",
       "      <td>NaN</td>\n",
       "      <td>NaN</td>\n",
       "      <td>NaN</td>\n",
       "      <td>NaN</td>\n",
       "      <td>NaN</td>\n",
       "      <td>NaN</td>\n",
       "      <td>NaN</td>\n",
       "      <td>NaN</td>\n",
       "      <td>...</td>\n",
       "      <td>NaN</td>\n",
       "      <td>NaN</td>\n",
       "      <td>NaN</td>\n",
       "      <td>NaN</td>\n",
       "      <td>NaN</td>\n",
       "      <td>NaN</td>\n",
       "      <td>NaN</td>\n",
       "      <td>NaN</td>\n",
       "      <td>NaN</td>\n",
       "      <td>5.612610</td>\n",
       "    </tr>\n",
       "    <tr>\n",
       "      <th>4691</th>\n",
       "      <td>NaN</td>\n",
       "      <td>NaN</td>\n",
       "      <td>NaN</td>\n",
       "      <td>NaN</td>\n",
       "      <td>NaN</td>\n",
       "      <td>NaN</td>\n",
       "      <td>NaN</td>\n",
       "      <td>NaN</td>\n",
       "      <td>NaN</td>\n",
       "      <td>NaN</td>\n",
       "      <td>...</td>\n",
       "      <td>NaN</td>\n",
       "      <td>NaN</td>\n",
       "      <td>NaN</td>\n",
       "      <td>NaN</td>\n",
       "      <td>NaN</td>\n",
       "      <td>NaN</td>\n",
       "      <td>NaN</td>\n",
       "      <td>NaN</td>\n",
       "      <td>NaN</td>\n",
       "      <td>5.595166</td>\n",
       "    </tr>\n",
       "    <tr>\n",
       "      <th>4692</th>\n",
       "      <td>NaN</td>\n",
       "      <td>NaN</td>\n",
       "      <td>NaN</td>\n",
       "      <td>NaN</td>\n",
       "      <td>NaN</td>\n",
       "      <td>NaN</td>\n",
       "      <td>NaN</td>\n",
       "      <td>NaN</td>\n",
       "      <td>NaN</td>\n",
       "      <td>NaN</td>\n",
       "      <td>...</td>\n",
       "      <td>NaN</td>\n",
       "      <td>NaN</td>\n",
       "      <td>NaN</td>\n",
       "      <td>NaN</td>\n",
       "      <td>NaN</td>\n",
       "      <td>NaN</td>\n",
       "      <td>NaN</td>\n",
       "      <td>NaN</td>\n",
       "      <td>NaN</td>\n",
       "      <td>5.419075</td>\n",
       "    </tr>\n",
       "    <tr>\n",
       "      <th>4693</th>\n",
       "      <td>NaN</td>\n",
       "      <td>NaN</td>\n",
       "      <td>NaN</td>\n",
       "      <td>NaN</td>\n",
       "      <td>NaN</td>\n",
       "      <td>NaN</td>\n",
       "      <td>NaN</td>\n",
       "      <td>NaN</td>\n",
       "      <td>NaN</td>\n",
       "      <td>NaN</td>\n",
       "      <td>...</td>\n",
       "      <td>NaN</td>\n",
       "      <td>NaN</td>\n",
       "      <td>NaN</td>\n",
       "      <td>NaN</td>\n",
       "      <td>NaN</td>\n",
       "      <td>NaN</td>\n",
       "      <td>NaN</td>\n",
       "      <td>NaN</td>\n",
       "      <td>NaN</td>\n",
       "      <td>5.460924</td>\n",
       "    </tr>\n",
       "    <tr>\n",
       "      <th>4694</th>\n",
       "      <td>NaN</td>\n",
       "      <td>NaN</td>\n",
       "      <td>NaN</td>\n",
       "      <td>NaN</td>\n",
       "      <td>NaN</td>\n",
       "      <td>NaN</td>\n",
       "      <td>NaN</td>\n",
       "      <td>NaN</td>\n",
       "      <td>NaN</td>\n",
       "      <td>NaN</td>\n",
       "      <td>...</td>\n",
       "      <td>NaN</td>\n",
       "      <td>NaN</td>\n",
       "      <td>NaN</td>\n",
       "      <td>NaN</td>\n",
       "      <td>NaN</td>\n",
       "      <td>NaN</td>\n",
       "      <td>NaN</td>\n",
       "      <td>NaN</td>\n",
       "      <td>NaN</td>\n",
       "      <td>5.555955</td>\n",
       "    </tr>\n",
       "  </tbody>\n",
       "</table>\n",
       "<p>4695 rows × 1614 columns</p>\n",
       "</div>"
      ],
      "text/plain": [
       "                                                    ABC  \\\n",
       "0     module 'numpy' has no attribute 'float'.\\n`np....   \n",
       "1     module 'numpy' has no attribute 'float'.\\n`np....   \n",
       "2     module 'numpy' has no attribute 'float'.\\n`np....   \n",
       "3                                                   NaN   \n",
       "4                                                   NaN   \n",
       "...                                                 ...   \n",
       "4690                                                NaN   \n",
       "4691                                                NaN   \n",
       "4692                                                NaN   \n",
       "4693                                                NaN   \n",
       "4694                                                NaN   \n",
       "\n",
       "                                                  ABCGG  nAcid  nBase  \\\n",
       "0     module 'numpy' has no attribute 'float'.\\n`np....    0.0    0.0   \n",
       "1     module 'numpy' has no attribute 'float'.\\n`np....    0.0    0.0   \n",
       "2     module 'numpy' has no attribute 'float'.\\n`np....    0.0    1.0   \n",
       "3                                                   NaN    NaN    NaN   \n",
       "4                                                   NaN    NaN    NaN   \n",
       "...                                                 ...    ...    ...   \n",
       "4690                                                NaN    NaN    NaN   \n",
       "4691                                                NaN    NaN    NaN   \n",
       "4692                                                NaN    NaN    NaN   \n",
       "4693                                                NaN    NaN    NaN   \n",
       "4694                                                NaN    NaN    NaN   \n",
       "\n",
       "       SpAbs_A   SpMax_A  SpDiam_A    SpAD_A   SpMAD_A   LogEE_A  ...  \\\n",
       "0     2.828427  1.414214  2.828427  2.828427  0.942809  1.849457  ...   \n",
       "1     2.828427  1.414214  2.828427  2.828427  0.942809  1.849457  ...   \n",
       "2     2.828427  1.414214  2.828427  2.828427  0.942809  1.849457  ...   \n",
       "3          NaN       NaN       NaN       NaN       NaN       NaN  ...   \n",
       "4          NaN       NaN       NaN       NaN       NaN       NaN  ...   \n",
       "...        ...       ...       ...       ...       ...       ...  ...   \n",
       "4690       NaN       NaN       NaN       NaN       NaN       NaN  ...   \n",
       "4691       NaN       NaN       NaN       NaN       NaN       NaN  ...   \n",
       "4692       NaN       NaN       NaN       NaN       NaN       NaN  ...   \n",
       "4693       NaN       NaN       NaN       NaN       NaN       NaN  ...   \n",
       "4694       NaN       NaN       NaN       NaN       NaN       NaN  ...   \n",
       "\n",
       "         TSRW10         MW       AMW  WPath  WPol  Zagreb1  Zagreb2  mZagreb1  \\\n",
       "0     17.310771  44.062600  4.005691    4.0   0.0      6.0      4.0      2.25   \n",
       "1     17.310771  46.041865  5.115763    4.0   0.0      6.0      4.0      2.25   \n",
       "2     17.310771  45.057849  4.505785    4.0   0.0      6.0      4.0      2.25   \n",
       "3           NaN        NaN       NaN    NaN   NaN      NaN      NaN       NaN   \n",
       "4           NaN        NaN       NaN    NaN   NaN      NaN      NaN       NaN   \n",
       "...         ...        ...       ...    ...   ...      ...      ...       ...   \n",
       "4690        NaN        NaN       NaN    NaN   NaN      NaN      NaN       NaN   \n",
       "4691        NaN        NaN       NaN    NaN   NaN      NaN      NaN       NaN   \n",
       "4692        NaN        NaN       NaN    NaN   NaN      NaN      NaN       NaN   \n",
       "4693        NaN        NaN       NaN    NaN   NaN      NaN      NaN       NaN   \n",
       "4694        NaN        NaN       NaN    NaN   NaN      NaN      NaN       NaN   \n",
       "\n",
       "      mZagreb2     pIC50  \n",
       "0          1.0  6.124939  \n",
       "1          1.0  7.000000  \n",
       "2          1.0  4.301030  \n",
       "3          NaN  6.522879  \n",
       "4          NaN  6.096910  \n",
       "...        ...       ...  \n",
       "4690       NaN  5.612610  \n",
       "4691       NaN  5.595166  \n",
       "4692       NaN  5.419075  \n",
       "4693       NaN  5.460924  \n",
       "4694       NaN  5.555955  \n",
       "\n",
       "[4695 rows x 1614 columns]"
      ]
     },
     "execution_count": 21,
     "metadata": {},
     "output_type": "execute_result"
    }
   ],
   "source": [
    "dataset3 = pd.concat([df3_X,df3_Y], axis=1)\n",
    "dataset3"
   ]
  },
  {
   "cell_type": "code",
   "execution_count": 22,
   "metadata": {
    "colab": {},
    "colab_type": "code",
    "id": "75npGyvhae0e"
   },
   "outputs": [],
   "source": [
    "dataset3.to_csv('acetylcholinesterase_06_bioactivity_data_3class_pIC50_pubchem_fp.csv', index=False)"
   ]
  },
  {
   "cell_type": "markdown",
   "metadata": {
    "colab_type": "text",
    "id": "nFpLoNRHeRa6"
   },
   "source": [
    "# **Let's download the CSV file to your local computer for the Part 3B (Model Building).**"
   ]
  },
  {
   "cell_type": "code",
   "execution_count": null,
   "metadata": {},
   "outputs": [],
   "source": []
  }
 ],
 "metadata": {
  "colab": {
   "collapsed_sections": [],
   "name": "CDD-ML-Part-3-Acetylcholinesterase-Descriptor-Dataset-Preparation.ipynb",
   "provenance": []
  },
  "kernelspec": {
   "display_name": "Python 3 (ipykernel)",
   "language": "python",
   "name": "python3"
  },
  "language_info": {
   "codemirror_mode": {
    "name": "ipython",
    "version": 3
   },
   "file_extension": ".py",
   "mimetype": "text/x-python",
   "name": "python",
   "nbconvert_exporter": "python",
   "pygments_lexer": "ipython3",
   "version": "3.11.11"
  }
 },
 "nbformat": 4,
 "nbformat_minor": 4
}
